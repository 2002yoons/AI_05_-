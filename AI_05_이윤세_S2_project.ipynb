{
  "nbformat": 4,
  "nbformat_minor": 0,
  "metadata": {
    "colab": {
      "name": "AI_05_이윤세_S2_project.ipynb",
      "private_outputs": true,
      "provenance": [],
      "collapsed_sections": [],
      "toc_visible": true,
      "authorship_tag": "ABX9TyNPg/MXBc7XGEVkB55rgb16",
      "include_colab_link": true
    },
    "kernelspec": {
      "name": "python3",
      "display_name": "Python 3"
    },
    "language_info": {
      "name": "python"
    }
  },
  "cells": [
    {
      "cell_type": "markdown",
      "metadata": {
        "id": "view-in-github",
        "colab_type": "text"
      },
      "source": [
        "<a href=\"https://colab.research.google.com/github/2002yoons/AI_05_Yunse_1st_projoect/blob/main/AI_05_%EC%9D%B4%EC%9C%A4%EC%84%B8_S2_project.ipynb\" target=\"_parent\"><img src=\"https://colab.research.google.com/assets/colab-badge.svg\" alt=\"Open In Colab\"/></a>"
      ]
    },
    {
      "cell_type": "markdown",
      "metadata": {
        "id": "ae08n99Ev5xw"
      },
      "source": [
        "# 데이터 분석\n",
        "\n",
        "\n",
        "  \n",
        "\n",
        "타겟은 지연도착 여부입니다. 그러므로 분류문제로 접근하겠습니다. \n",
        "\n",
        "\n",
        "\n",
        "\n",
        "\n"
      ]
    },
    {
      "cell_type": "markdown",
      "metadata": {
        "id": "VWepVEm6uFEH"
      },
      "source": [
        "##데이터 선정 이유\n",
        "\n",
        "주어진 데이터는 항공정보 데이터입니다. 데이터를 이용해서 도착지연을 예측하는 것이 이번 프로젝트의 목표입니다.\n",
        "\n",
        "\n",
        "\n",
        "1.   항공기 지연도착으로 인해 방송촬영 시간에 늦었던 경험\n",
        "\n",
        "2. 코로나로 인해 늘어날 수요\n",
        "  \n",
        "3. 기후 변화로 인해 더욱 부각될 지연이슈\n",
        "\n",
        "\n",
        "\n",
        "\n"
      ]
    },
    {
      "cell_type": "markdown",
      "metadata": {
        "id": "qgeaJL3IJmOD"
      },
      "source": [
        "###문제정의\n",
        "\n",
        "지연도착의 여부는 예,아니오로 구분됩니다, 분류문제로 접근하겠습니다."
      ]
    },
    {
      "cell_type": "code",
      "metadata": {
        "id": "HhH7wMadLhoz"
      },
      "source": [
        "from google.colab import drive\n",
        "drive.mount('/content/drive')"
      ],
      "execution_count": null,
      "outputs": []
    },
    {
      "cell_type": "code",
      "metadata": {
        "id": "CxUiLGN3Lw1L"
      },
      "source": [
        "#데이터 분석에 필요한 데이터를 불러오겠습니다.\n",
        "import pandas as pd\n",
        "\n",
        "#2019년 2월 항공기 데이터입니다\n",
        "df_2019 = pd.read_csv('/content/drive/MyDrive/프로젝트/Feb_2019_ontime.csv')\n",
        "\n",
        "#2020년 2월 항공기 데이터입니다\n",
        "df_2020 = pd.read_csv('/content/drive/MyDrive/프로젝트/Feb_2020_ontime.csv')"
      ],
      "execution_count": null,
      "outputs": []
    },
    {
      "cell_type": "code",
      "metadata": {
        "id": "ufoxMHdVL2ot"
      },
      "source": [
        "# Month 피쳐를 생성해 2019년 데이터는 2019, 2020년 데이터는 2020으로 넣겠습니다.\n",
        "df_2019['Year'] = 2019\n",
        "df_2020['Year'] = 2020\n",
        "\n",
        "#1월 2월 데이터를 합치겠습니다.\n",
        "df = pd.concat([df_2019,df_2020],ignore_index=True)"
      ],
      "execution_count": null,
      "outputs": []
    },
    {
      "cell_type": "code",
      "metadata": {
        "id": "_9aPNy4dMoy0"
      },
      "source": [
        "#데이터셋의 차원을 알아보겠습니다\n",
        "df.shape \n"
      ],
      "execution_count": null,
      "outputs": []
    },
    {
      "cell_type": "code",
      "metadata": {
        "id": "DAvcel9JORWA"
      },
      "source": [
        "df.head()"
      ],
      "execution_count": null,
      "outputs": []
    },
    {
      "cell_type": "code",
      "metadata": {
        "id": "Swchp0vKMyZe"
      },
      "source": [
        "# 데이터 요약 통계량을 보겠습니다. \n",
        "df.describe(include=['number'],percentiles=[0.05,0.00,0.95,0.99]).T"
      ],
      "execution_count": null,
      "outputs": []
    },
    {
      "cell_type": "code",
      "metadata": {
        "id": "N99S9vSONzA-"
      },
      "source": [
        "#문자열 피쳐의 요약 통계량을 보겠습니다\n",
        "df.describe(include= ['object']).T\n"
      ],
      "execution_count": null,
      "outputs": []
    },
    {
      "cell_type": "markdown",
      "metadata": {
        "id": "w0iASoyPN65I"
      },
      "source": [
        "###데이터 스플릿"
      ]
    },
    {
      "cell_type": "code",
      "metadata": {
        "id": "bHID4vI_IAJ-"
      },
      "source": [
        "# 데이터 누수를 방지하기 위해 먼저 테스트 (처음엔 먼저 데이터 프로세싱을 했는데, 하다보니 데이터 누수가 의심되어 처음부터 스플릿 하기. )\n",
        "# 데이터가 110만개이기 떄문에 교차검증을 사용하지 않고 test,validate,train split으로 나누겠습니다.\n",
        "from sklearn.model_selection import train_test_split\n",
        "import numpy as np\n",
        "\n",
        "train, test = train_test_split(df, test_size=0.2, random_state=2)\n",
        "train, val = train_test_split(train,test_size=0.2,random_state=2)\n",
        "\n",
        "print(df.shape)\n",
        "print(train.shape)\n",
        "print(test.shape)\n",
        "print(val.shape)"
      ],
      "execution_count": null,
      "outputs": []
    },
    {
      "cell_type": "markdown",
      "metadata": {
        "id": "XybLu6cjLMcX"
      },
      "source": [
        "###베이스라인 모델\n"
      ]
    },
    {
      "cell_type": "code",
      "metadata": {
        "id": "g_fiuEYJLMAW"
      },
      "source": [
        "#타겟 확인 및 베이스 모델 선정, 가중치 계산\n",
        "base = round(train['ARR_DEL15'].value_counts(normalize = True)[0],3)\n",
        "ratio =  0.2/0.8\n",
        "print(f'베이스 모델: {base}')\n",
        "print(f'가중치: {ratio}')"
      ],
      "execution_count": null,
      "outputs": []
    },
    {
      "cell_type": "markdown",
      "metadata": {
        "id": "DqL64LvEzx9V"
      },
      "source": [
        "##전처리\n",
        "\n",
        "\n",
        "\n",
        "\n",
        "\n",
        "\n",
        "\n",
        "\n",
        "\n",
        "\n",
        "\n",
        "\n",
        "\n"
      ]
    },
    {
      "cell_type": "markdown",
      "metadata": {
        "id": "6LrS0-x_wQfX"
      },
      "source": [
        "###결측치 확인\n",
        "\n",
        "1.   결측치가 총 데이터에 차지하는 비율이 0.00004%로 제거조치해도 데이터셋에 영향을 주지 않을 양입니다, 다만 결측치가 포함된 특성이 ['TAIL_NUM'],['DEP_TIME'], ['DEP_DEL15'] , ['ARR_TIME'], ['ARR_DEL15']므로, 타겟과 밀접한 관계가 있습니다. 결측치가 포함된 데이터가 어떤 데이터인지 알아보았습니다. \n",
        "\n",
        "---\n",
        "\n",
        "\n",
        "\n",
        "\n",
        "\n",
        " 2.   결측치를 포함한 모든 항공정보는 세가지 경우입니다:\n",
        "\n",
        "\n",
        "   * 취소가 되어서 이륙시간, 착륙시간이 결측처리 된 경우 ----- 취소가 된 정보는 타겟과 무관하므로 전체 로우를 제거했습니다.\n",
        "   * 우회가 되어서 지연착륙 여부를 알 수 없는 경우 ----- 우회가 된 정보는 상식적으로 지연착륙이 될 가능성이 크지만 타겟값이 결측되었습니다, 자문을 구할 수 없는 상황이므로 전체 로우를 제거했습니다.\n",
        "   * 테일넘버가 결측되어,항공기를 식별할 수 없어 이륙시간, 착륙시간이, 지연착륙 여부가 결측된 경우 ----- 테일 넘버는 타겟과 무관하여 전체 로우를 제거했습니다. "
      ]
    },
    {
      "cell_type": "code",
      "metadata": {
        "id": "NJhJ5kV6SkWP"
      },
      "source": [
        "#결측치의 비중을 확인하겠습니다\n",
        "df_nan_ratio = pd.DataFrame(data=df.isnull().sum()/len(df),columns=['nan_ratio'])\n",
        "\n",
        "a = pd.DataFrame(df_nan_ratio)\n",
        "print(f'결측치를 가진 피쳐가 데이터셋에서 차지하는 비율 :{round(df_nan_ratio.values.mean()/100,5)}%')\n",
        "a\n",
        "#'TAIL_NUM','DEP_TIME','DEP_DEL15','ARR_TIME',ARR_DEL15' 총 5개의 피쳐에서 결측치를 발견했습니다, 평균 결측치 비중이 전체 데이터의 0.00004%이지만, 이륙시간과 착륙시간은 중요한 정보이므로, 결측치를 더 자세하게 알아보겠습니다. "
      ],
      "execution_count": null,
      "outputs": []
    },
    {
      "cell_type": "code",
      "metadata": {
        "id": "oLUCWU68dxQ3"
      },
      "source": [
        "#항공기의 정보가 담겼지만 착륙과 이륙에 결측치가 있다는 건 이륙이 취소되었음을 의심할 수 있습니다, 취소된 정보에 결측치는 없는지 확인하겠습니다.\n",
        "def cleaning(df):\n",
        "    #Unnamed:21 피쳐는 무의미하므로 제거하겠습니다.\n",
        "    df.drop(columns = ['Unnamed: 21'],axis=1,inplace=True)\n",
        "\n",
        "    pd.options.mode.chained_assignment = None  \n",
        "\n",
        "    #취소된 항공정보는 '지연 착륙'타겟과 무관하므로 제거하겠습니다, 또한 우회한 항공정보는 상식적으로 지연 착륙 가능성이 크지만, 타겟이 전부 결측치므로, 우회 항공정보에 대한 지연착륙 여부를 파악할 수 없어 제거 조치하겠습니다. \n",
        "    df.drop(df[df['CANCELLED'] == 1.0].index,inplace = True)\n",
        "    not_cancelled_but_with_nan = ((df['CANCELLED']==0.0) & (df.isnull().any(axis=1) == True))\n",
        "    df.drop(df[not_cancelled_but_with_nan].index, inplace = True)\n",
        "\n",
        "  \n",
        "    # TAIL NUM 피쳐를 확인하겠습니다. TAIL NUM은 항공기의 고유 넘버입니다. 넘버 자체에 국가 또는 도시 정보를 볼 수 있지만, 총 5815개의 카디널리티가 존재해 일일히 분류하기 어렵습니다. 전체 특성을 삭제 조치하겠습니다.\n",
        "    df.drop(columns =  ['TAIL_NUM'],inplace =True)\n",
        "    df_nan_cleaning = pd.DataFrame(data=df.isnull().sum()/len(df),columns=['nan_ratio'])\n",
        "    \n",
        "\n",
        "\n",
        "    return df"
      ],
      "execution_count": null,
      "outputs": []
    },
    {
      "cell_type": "code",
      "metadata": {
        "id": "UYZ1LHUmKVk6"
      },
      "source": [
        "train = cleaning(train)\n",
        "print(train.isnull().any().any())\n",
        "val = cleaning(val)\n",
        "print(val.isnull().any().any())\n",
        "test = cleaning(test)\n",
        "print(test.isnull().any().any())"
      ],
      "execution_count": null,
      "outputs": []
    },
    {
      "cell_type": "markdown",
      "metadata": {
        "id": "ufiWBcrFxJNo"
      },
      "source": [
        "##EDA\n",
        "\n",
        "데이터의 인사이트를 알아보겠습니다.\n",
        "\n",
        "\n",
        "1.   일주일 중 주말과 평일의 지연량이 눈에 띄게 다를까?\n",
        "2.   어느 출발지에서 출발지연이 가장 많이 될까?\n",
        "3.   어느 도착지에서 도착지연이 가장 많이 될까?\n",
        "3.   지연착륙과 지연이륙이 어떤 관계일까?\n",
        "\n",
        "\n",
        "\n"
      ]
    },
    {
      "cell_type": "code",
      "metadata": {
        "id": "6EYYViYbTmfA"
      },
      "source": [
        "import matplotlib.pyplot as plt\n",
        "import seaborn as sns\n",
        "# 일주일 중 어느 요일이 이용량이 가장 많을까?\n",
        "plot_count= train['DAY_OF_WEEK'].value_counts()\n",
        "fig, ax = plt.subplots()\n",
        "fig.set_facecolor('#f1f1f1')\n",
        "fig.set_figwidth(10)\n",
        "fig.set_figheight(7)\n",
        "\n",
        "plt.box(False)\n",
        "plt.axhline(y=0, color='grey', linewidth=5)\n",
        "plt.grid(True, color='grey')\n",
        "sns.barplot(x=plot_count.index, y=plot_count.values,palette= 'crest')\n"
      ],
      "execution_count": null,
      "outputs": []
    },
    {
      "cell_type": "code",
      "metadata": {
        "id": "y3r9FpccEzcK"
      },
      "source": [
        "# 일주일 중 지연이 가장 많이 일어나는 날?\n",
        "plot_del= train[train['ARR_DEL15']== 1.0]['DAY_OF_WEEK'].value_counts()\n",
        "fig, ax = plt.subplots()\n",
        "fig.set_facecolor('#f1f1f1')\n",
        "fig.set_figwidth(10)\n",
        "fig.set_figheight(7)\n",
        "\n",
        "plt.box(False)\n",
        "plt.axhline(y=0, color='grey', linewidth=5)\n",
        "plt.grid(True, color='grey')\n",
        "sns.barplot(x=plot_del.index, y=plot_del.values,palette= 'crest')"
      ],
      "execution_count": null,
      "outputs": []
    },
    {
      "cell_type": "code",
      "metadata": {
        "id": "R6y0NKwYBdDY"
      },
      "source": [
        "#일주일 중 요일에 따른 지연율은 얼마나 될까?   (주말과 평일을 분리)\n",
        "delay_ratio =plot_del/plot_count\n",
        "\n",
        "fig, ax = plt.subplots()\n",
        "fig.set_facecolor('#f1f1f1')\n",
        "fig.set_figwidth(10)\n",
        "fig.set_figheight(7)\n",
        "\n",
        "plt.box(False)\n",
        "plt.axhline(y=0, color='grey', linewidth=5)\n",
        "plt.grid(True, color='grey')\n",
        "sns.barplot(x=delay_ratio.index, y=delay_ratio.values,palette= 'crest')"
      ],
      "execution_count": null,
      "outputs": []
    },
    {
      "cell_type": "code",
      "metadata": {
        "id": "SNwOAPv7M_om"
      },
      "source": [
        "#타임 블록 중 지연이 제일 많이 발생하는 블록이 언제일까?\n",
        "delay_block = train[['DEP_TIME_BLK','ARR_DEL15']].groupby('DEP_TIME_BLK').sum().sort_values(by='ARR_DEL15',ascending=False)\n",
        "fig, ax = plt.subplots()\n",
        "fig.set_facecolor('#f1f1f1')\n",
        "fig.set_figwidth(18)\n",
        "fig.set_figheight(7)\n",
        "\n",
        "plt.box(False)\n",
        "plt.xticks(rotation=45, ha='right')\n",
        "plt.axhline(y=0, color='grey', linewidth=5)\n",
        "plt.grid(True, color='grey')\n",
        "sns.barplot(x=delay_block.index, y=delay_block['ARR_DEL15'],palette= 'crest')"
      ],
      "execution_count": null,
      "outputs": []
    },
    {
      "cell_type": "code",
      "metadata": {
        "id": "YVePRb35T1wo"
      },
      "source": [
        "#도착지에서 얼마나 많은 지연이 일어났는지?\n",
        "delay_dest = train[['DEST','ARR_DEL15']].groupby('DEST').sum().sort_values(by='ARR_DEL15',ascending=False)[0:10]\n",
        "fig, ax = plt.subplots()\n",
        "fig.set_facecolor('#f1f1f1')\n",
        "fig.set_figwidth(18)\n",
        "fig.set_figheight(7)\n",
        "\n",
        "plt.box(False)\n",
        "plt.xticks(rotation=45, ha='right')\n",
        "plt.axhline(y=0, color='grey', linewidth=5)\n",
        "plt.grid(True, color='grey')\n",
        "sns.barplot(x=delay_dest.index, y=delay_dest['ARR_DEL15'],palette= 'crest')"
      ],
      "execution_count": null,
      "outputs": []
    },
    {
      "cell_type": "code",
      "metadata": {
        "id": "XKPGZxD3S8Ao"
      },
      "source": [
        "#출발지에서 얼마나 많은 지연출발이 일어났는지? \n",
        "delay_origin = train[['ORIGIN','DEP_DEL15']].groupby('ORIGIN').sum().sort_values(by='DEP_DEL15',ascending=False)[0:10]\n",
        "fig, ax = plt.subplots()\n",
        "fig.set_facecolor('#f1f1f1')\n",
        "fig.set_figwidth(18)\n",
        "fig.set_figheight(7)\n",
        "\n",
        "plt.box(False)\n",
        "plt.xticks(rotation=45, ha='right')\n",
        "plt.axhline(y=0, color='grey', linewidth=5)\n",
        "plt.grid(True, color='grey')\n",
        "sns.barplot(x=delay_origin.index, y=delay_origin['DEP_DEL15'],palette= 'crest')"
      ],
      "execution_count": null,
      "outputs": []
    },
    {
      "cell_type": "markdown",
      "metadata": {
        "id": "RE4duBtYwarJ"
      },
      "source": [
        "### 특성 파악\n",
        "\n",
        "\n",
        "\n"
      ]
    },
    {
      "cell_type": "markdown",
      "metadata": {
        "id": "wi_kBKosjgiM"
      },
      "source": [
        "####히트맵"
      ]
    },
    {
      "cell_type": "code",
      "metadata": {
        "id": "s4M6JrLEevMk"
      },
      "source": [
        "#\n",
        "# multicollinearity를 확인하기 위해 특성 간 상관관계를 알아보겠습니다,\n",
        "\n",
        "import matplotlib.pyplot as plt\n",
        "import seaborn as sns\n",
        "plt.figure(figsize = (18, 16))\n",
        "sns.heatmap(df.corr(), annot = True, cmap = 'PuBuGn')\n",
        "plt.show()"
      ],
      "execution_count": null,
      "outputs": []
    },
    {
      "cell_type": "markdown",
      "metadata": {
        "id": "7fwwbekVjqjg"
      },
      "source": [
        "#### 카이제곱검정"
      ]
    },
    {
      "cell_type": "code",
      "metadata": {
        "id": "N2dxPLYeRnYl"
      },
      "source": [
        "from scipy.stats import chi2_contingency\n",
        "obs_OP2 = pd.crosstab(train['OP_UNIQUE_CARRIER'], \n",
        "                            train['OP_CARRIER'],\n",
        "                             margins = False)\n",
        "\n",
        "c, p, dof, expected = chi2_contingency(obs_OP2) \n",
        "\n",
        "# Print the p-value\n",
        "\n",
        "print(p)\n",
        "obs_OP2"
      ],
      "execution_count": null,
      "outputs": []
    },
    {
      "cell_type": "code",
      "metadata": {
        "id": "0pfv3_h7Vt4b"
      },
      "source": [
        "\n",
        "obs_org = pd.crosstab(train['ORIGIN'], \n",
        "                            train['ORIGIN_AIRPORT_ID'],\n",
        "                             margins = False)\n",
        "\n",
        "c, p, dof, expected = chi2_contingency(obs_org) \n",
        "\n",
        "# Print the p-value\n",
        "print(p)\n",
        "obs_org"
      ],
      "execution_count": null,
      "outputs": []
    },
    {
      "cell_type": "code",
      "metadata": {
        "id": "VOFYnRJGfy-V"
      },
      "source": [
        "\n",
        "obs_dest = pd.crosstab(train['DEST'], \n",
        "                            train['DEST_AIRPORT_ID'],\n",
        "                             margins = False)\n",
        "\n",
        "c, p, dof, expected = chi2_contingency(obs_dest) \n",
        "\n",
        "# Print the p-value\n",
        "print(p)\n",
        "obs_org"
      ],
      "execution_count": null,
      "outputs": []
    },
    {
      "cell_type": "code",
      "metadata": {
        "id": "K1ivKMTYaN5i"
      },
      "source": [
        "\n",
        "obs_dest = pd.crosstab(train['OP_CARRIER_AIRLINE_ID'], \n",
        "                            train['OP_CARRIER_FL_NUM'],\n",
        "                             margins = False)\n",
        "\n",
        "c, p, dof, expected = chi2_contingency(obs_dest) \n",
        "\n",
        "# Print the p-value\n",
        "print(p)\n",
        "obs_org"
      ],
      "execution_count": null,
      "outputs": []
    },
    {
      "cell_type": "markdown",
      "metadata": {
        "id": "EjkTeox0wgr3"
      },
      "source": [
        "### 특성 제거"
      ]
    },
    {
      "cell_type": "code",
      "metadata": {
        "id": "rR2293MWsBAG"
      },
      "source": [
        "def deleting(df):\n",
        "\n",
        "    # 다중공선성을 보이는 'ORIGIN_AIRPORT_SEQ_ID','DEST_AIRPORT_SEQ_ID'를 제거하겠습니다.(heatmap)\n",
        "    df.drop(columns = ['ORIGIN_AIRPORT_SEQ_ID','DEST_AIRPORT_SEQ_ID'],inplace = True)\n",
        "\n",
        "    #결측치 처리 과정에서 우회와 취소를 제거했으므로, 피쳐를 제거하겠습니다.(결측치 제거)\n",
        "    df.drop(columns = ['DIVERTED','CANCELLED'],inplace = True)\n",
        "\n",
        "    # ORIGIN_AIRPORT_ID 와 ORIGIN는 동일한 특성이므로 택일하겠습니다 (크로스탭)\n",
        "    df.drop(columns = ['ORIGIN_AIRPORT_ID'],inplace = True)\n",
        "\n",
        "    # DEST_AIRPORT_ID 와 DEST는 동일한 특성이므로 택일하겠습니다 (크로스탭)\n",
        "    df.drop(columns = ['DEST_AIRPORT_ID'],inplace = True)\n",
        "\n",
        "    #OP_CARRIER과 OP_UNIQUE_CARRIER, OP_CARRIER_AIRLINE_ID 셋 다 동일한 특성이므로 택일하겠습니다.(크로스탭)\n",
        "    df.drop(columns = ['OP_UNIQUE_CARRIER','OP_CARRIER'],inplace = True)\n",
        "\n",
        "    df.drop(columns = ['OP_CARRIER_AIRLINE_ID','OP_CARRIER_FL_NUM'],inplace = True)\n",
        "\n",
        "\n",
        "\n",
        "\n",
        "    return df\n",
        "\n",
        "\n",
        "\n",
        "\n"
      ],
      "execution_count": null,
      "outputs": []
    },
    {
      "cell_type": "code",
      "metadata": {
        "id": "rJ2W6eZ9bFFB"
      },
      "source": [
        "train = deleting(train)\n",
        "val = deleting(val)\n",
        "test = deleting(test)"
      ],
      "execution_count": null,
      "outputs": []
    },
    {
      "cell_type": "markdown",
      "metadata": {
        "id": "8H4I4UiecIYp"
      },
      "source": [
        "###특성 생성"
      ]
    },
    {
      "cell_type": "code",
      "metadata": {
        "id": "87hb_qCrAkUz"
      },
      "source": [
        "#ARR_TIME_BLK 생성\n",
        "\n",
        "def engineering(df):\n",
        "    df.loc[(df['ARR_TIME']>=600) & (df['ARR_TIME']<=659),'ARR_TIME_BLK'] ='0600-0659'\n",
        "    df.loc[(df['ARR_TIME']>=700) & (df['ARR_TIME']<=759),'ARR_TIME_BLK'] ='0700-0759'\n",
        "    df.loc[(df['ARR_TIME']>=800) & (df['ARR_TIME']<=859),'ARR_TIME_BLK'] ='0800-0759'\n",
        "    df.loc[(df['ARR_TIME']>=900) & (df['ARR_TIME']<=959),'ARR_TIME_BLK'] ='0900-0759'\n",
        "    df.loc[(df['ARR_TIME']>=1000) & (df['ARR_TIME']<=1059),'ARR_TIME_BLK'] ='1000-1059'\n",
        "    df.loc[(df['ARR_TIME']>=1100) & (df['ARR_TIME']<=1159),'ARR_TIME_BLK'] ='1100-1159'\n",
        "    df.loc[(df['ARR_TIME']>=1200) & (df['ARR_TIME']<=1259),'ARR_TIME_BLK'] ='1200-1259'\n",
        "    df.loc[(df['ARR_TIME']>=1300) & (df['ARR_TIME']<=1359),'ARR_TIME_BLK'] ='1300-1359'\n",
        "    df.loc[(df['ARR_TIME']>=1400) & (df['ARR_TIME']<=1459),'ARR_TIME_BLK'] ='1400-1459'\n",
        "    df.loc[(df['ARR_TIME']>=1500) & (df['ARR_TIME']<=1559),'ARR_TIME_BLK'] ='1500-1559'\n",
        "    df.loc[(df['ARR_TIME']>=1600) & (df['ARR_TIME']<=1659),'ARR_TIME_BLK'] ='1600-1659'\n",
        "    df.loc[(df['ARR_TIME']>=1700) & (df['ARR_TIME']<=1759),'ARR_TIME_BLK'] ='1700-1759'\n",
        "    df.loc[(df['ARR_TIME']>=1800) & (df['ARR_TIME']<=1859),'ARR_TIME_BLK'] ='1800-1859'\n",
        "    df.loc[(df['ARR_TIME']>=1900) & (df['ARR_TIME']<=1959),'ARR_TIME_BLK'] ='1900-1959'\n",
        "    df.loc[(df['ARR_TIME']>=2000) & (df['ARR_TIME']<=2059),'ARR_TIME_BLK'] ='2000-2059'\n",
        "    df.loc[(df['ARR_TIME']>=2100) & (df['ARR_TIME']<=2159),'ARR_TIME_BLK'] ='2100-2159'\n",
        "    df.loc[(df['ARR_TIME']>=2200) & (df['ARR_TIME']<=2259),'ARR_TIME_BLK'] ='2200-2259'\n",
        "    df.loc[(df['ARR_TIME']>=2300) & (df['ARR_TIME']<=2359),'ARR_TIME_BLK'] ='2300-2359'\n",
        "    df.loc[(df['ARR_TIME']>=1) & (df['ARR_TIME']<=559),'ARR_TIME_BLK'] ='0001-0559'\n",
        "\n",
        "    #일주일을 주말과 평일로 나눈 새로운 특성 생성\n",
        "    df.loc[df['DAY_OF_WEEK']<=5,'WEEK_CAT'] = 'weekday'\n",
        "    df.loc[df['DAY_OF_WEEK']>5,'WEEK_CAT'] = 'weekend'\n",
        "\n",
        "    #시간 블록당 지연횟수 총합의 새로운 특성 생성 (merge이용)\n",
        "    block_delay = df[['DEP_TIME_BLK','ARR_DEL15']].groupby('DEP_TIME_BLK').sum().sort_values(by='ARR_DEL15',ascending=False)\n",
        "    df = df.merge(block_delay, left_on='DEP_TIME_BLK', right_on='DEP_TIME_BLK') \n",
        "    df.rename({'ARR_DEL15_y':'DEP_TIME_BLK_DELAY','ARR_DEL15_x':'ARR_DEL15' }, inplace=True, axis=1)\n",
        "\n",
        "    # 출발지별 지연횟수 총합의 새로운 특성 생성\n",
        "    delay_origin = df[['ORIGIN','DEP_DEL15']].groupby('ORIGIN').sum().sort_values(by='DEP_DEL15',ascending=False)[0:10]\n",
        "    df = df.merge(delay_origin, left_on='ORIGIN', right_on='ORIGIN') \n",
        "    df.rename({'DEP_DEL15_y':'ORIGIN_DELAY','DEP_DEL15_x':'DEP_DEL15' }, inplace=True, axis=1)\n",
        "\n",
        "    # 도착지별 지연횟수 총합의 새로운 특성 생성\n",
        "    delay_dest = df[['DEST','ARR_DEL15']].groupby('DEST').sum().sort_values(by='ARR_DEL15',ascending=False)\n",
        "    df = df.merge(delay_dest, left_on='DEST', right_on='DEST') \n",
        "    df.rename({'ARR_DEL15_y':'DEST_DELAY','ARR_DEL15_x':'ARR_DEL15' }, inplace=True, axis=1)\n",
        "\n",
        "    #거리를 이산화시켜 네가지 분류 특성 생성\n",
        "    df['DISTANCE_CAT'] = pd.qcut(df['DISTANCE'], q=4,labels=[1,2,3,4])\n",
        "\n",
        "    #타입변환\n",
        "    df['DEP_TIME'] = df['DEP_TIME'].astype(int)\n",
        "    df['DEP_DEL15'] = df['DEP_DEL15'].astype(int)\n",
        "    df['ARR_TIME'] = df['ARR_TIME'].astype(int)\n",
        "    df['ARR_DEL15'] = df['ARR_DEL15'].astype(int)\n",
        "    df['DISTANCE'] = df['DISTANCE'].astype(int)\n",
        "    df['blck_delay'] = df['DEP_TIME_BLK_DELAY'].astype(int)\n",
        "    df['delay_origin'] = df['ORIGIN_DELAY'].astype(int)\n",
        "    df['delay_dest'] = df['DEST_DELAY'].astype(int)\n",
        "\n",
        "    #카디널리티가 높은 특성은 제거하겠습니다.\n",
        "\n",
        "    #df.drop(['DEP_TIME','ARR_TIME','DISTANCE','DEST'],axis = 1,inplace =True)\n",
        "\n",
        "    \n",
        "\n",
        "\n",
        "\n",
        "    return df"
      ],
      "execution_count": null,
      "outputs": []
    },
    {
      "cell_type": "code",
      "metadata": {
        "id": "XZZwe64WYP6o"
      },
      "source": [
        "train = engineering(train)\n",
        "val = engineering(val)\n",
        "test = engineering(test)"
      ],
      "execution_count": null,
      "outputs": []
    },
    {
      "cell_type": "code",
      "metadata": {
        "id": "s2eRAHYOfIOo"
      },
      "source": [
        "train"
      ],
      "execution_count": null,
      "outputs": []
    },
    {
      "cell_type": "markdown",
      "metadata": {
        "id": "m7NL8QC6UUzB"
      },
      "source": [
        "#모델학습\n",
        "\n",
        "1.   저희의 목표는 항공기의 지연을 예측하는 것입니다. 그러므로 타겟은 ['ARR_DEL15']입니다.\n",
        "\n",
        "\n"
      ]
    },
    {
      "cell_type": "code",
      "metadata": {
        "id": "wRz2ylpPwCkX"
      },
      "source": [
        "%%capture\n",
        "import sys\n",
        "\n",
        "if 'google.colab' in sys.modules:\n",
        "    # Install packages in Colab\n",
        "    !pip install category_encoders==2.*\n",
        "    !pip install eli5\n",
        "    !pip install pdpbox\n",
        "    !pip install shap\n",
        "\n"
      ],
      "execution_count": null,
      "outputs": []
    },
    {
      "cell_type": "code",
      "metadata": {
        "id": "uriPz_VtHgaB"
      },
      "source": [
        "from category_encoders import OrdinalEncoder\n",
        "from category_encoders import TargetEncoder\n",
        "from sklearn.pipeline import make_pipeline\n",
        "from xgboost import XGBClassifier\n",
        "from sklearn.pipeline import Pipeline\n",
        "from sklearn.ensemble import RandomForestClassifier\n",
        "from sklearn.tree import DecisionTreeClassifier\n",
        "from sklearn.metrics import classification_report"
      ],
      "execution_count": null,
      "outputs": []
    },
    {
      "cell_type": "markdown",
      "metadata": {
        "id": "O-CQJd6PQeOU"
      },
      "source": [
        "###인코딩"
      ]
    },
    {
      "cell_type": "code",
      "metadata": {
        "id": "qCxRzHc5dI3m"
      },
      "source": [
        "enc = OrdinalEncoder()\n",
        "train_enc = enc.fit_transform(train)\n",
        "val_enc = enc.transform(val)\n",
        "test_enc = enc.transform(test)"
      ],
      "execution_count": null,
      "outputs": []
    },
    {
      "cell_type": "markdown",
      "metadata": {
        "id": "g_FXXqRcQdrj"
      },
      "source": [
        "###테스트셋 분리"
      ]
    },
    {
      "cell_type": "code",
      "metadata": {
        "id": "mQPxC6b4st7P"
      },
      "source": [
        "#타겟 선정, 학습 검증 테스트 데이터로 분할\n",
        "target = 'ARR_DEL15'\n",
        "\n",
        "X_train = train_enc.drop(columns=target)\n",
        "y_train = train_enc[target]\n",
        "\n",
        "X_val = val_enc.drop(columns=target)\n",
        "y_val = val_enc[target]\n",
        "X_test = test_enc.drop(columns=target)\n",
        "y_test = test_enc[target]\n",
        "\n",
        "print('X_train shape', X_train.shape)\n",
        "print('y_train shape', y_train.shape)\n",
        "print('X_val shape', X_val.shape)\n",
        "print('y_val shape', y_val.shape)\n",
        "print('X_test shape', X_test.shape)\n",
        "print('y_test shape', y_test.shape)"
      ],
      "execution_count": null,
      "outputs": []
    },
    {
      "cell_type": "markdown",
      "metadata": {
        "id": "CdhCa4kbQmO2"
      },
      "source": [
        "###가중치 계산"
      ]
    },
    {
      "cell_type": "code",
      "metadata": {
        "id": "Eh6I-g2AvnzH"
      },
      "source": [
        "#가중치 계산\n",
        "y_train.value_counts(normalize = True)\n",
        "weight = len(y_train)/(2*np.bincount(y_train))\n",
        "weight"
      ],
      "execution_count": null,
      "outputs": []
    },
    {
      "cell_type": "code",
      "metadata": {
        "id": "IXm-hRAljA6b"
      },
      "source": [
        "train.head()"
      ],
      "execution_count": null,
      "outputs": []
    },
    {
      "cell_type": "code",
      "metadata": {
        "id": "z5IRSIAlo3xK"
      },
      "source": [
        "\n"
      ],
      "execution_count": null,
      "outputs": []
    },
    {
      "cell_type": "markdown",
      "metadata": {
        "id": "i6sKUJYZPi7p"
      },
      "source": [
        "###모델비교"
      ]
    },
    {
      "cell_type": "code",
      "metadata": {
        "id": "LMXnooI4nxks"
      },
      "source": [
        "#렌덤포레스트와 XG부스트를 비교해보겠습니다.\n",
        "\n",
        "pipe_RF = Pipeline([('preprocessing', make_pipeline(OrdinalEncoder())),('RF', RandomForestClassifier(n_estimators=100,max_depth=5, random_state=2))])\n",
        "pipe_RF.fit(X_train,y_train)\n",
        "y_val_pred_RF = pipe_RF.predict(X_val)\n",
        "print(classification_report(y_val, y_val_pred_RF))\n",
        "\n",
        "pipe_XGB = Pipeline([('preprocessing', make_pipeline(OrdinalEncoder())),('XGB', XGBClassifier(n_estimators=100,max_depth=5, random_state=2))])\n",
        "pipe_XGB.fit(X_train,y_train)\n",
        "y_val_pred_XGB = pipe_XGB.predict(X_val)\n",
        "print(classification_report(y_val, y_val_pred_XGB))\n",
        "\n"
      ],
      "execution_count": null,
      "outputs": []
    },
    {
      "cell_type": "markdown",
      "metadata": {
        "id": "eGSmG2IePnWg"
      },
      "source": [
        "###모델선택 및 특성중요도 계산"
      ]
    },
    {
      "cell_type": "code",
      "metadata": {
        "id": "kwO1iwJ3wWeG"
      },
      "source": [
        "# 특성 중요도를 위한 파이프라인 구축 계산 (permutation)\n",
        "pipe = Pipeline([('preprocessing', make_pipeline(OrdinalEncoder())),('RF', RandomForestClassifier(n_estimators=100, random_state=2, n_jobs=-1))])\n",
        "pipe.named_steps\n",
        "\n",
        "pipe.fit(X_train, y_train)\n",
        "\n",
        "print('검증 정확도: ', pipe.score(X_val, y_val))"
      ],
      "execution_count": null,
      "outputs": []
    },
    {
      "cell_type": "code",
      "metadata": {
        "id": "pm314TNvJUNo"
      },
      "source": [
        "#특성 중요도 계산(permutation importance)\n",
        "\n",
        "import warnings\n",
        "warnings.simplefilter(action='ignore', category=FutureWarning)\n",
        "import eli5\n",
        "from eli5.sklearn import PermutationImportance\n",
        "\n",
        "permuter = PermutationImportance(\n",
        "    pipe.named_steps['RF'], \n",
        "    scoring='f1', \n",
        "    n_iter=30,  \n",
        "    random_state=2\n",
        ")\n",
        "\n",
        "# permuter 계산은 preprocessing 된 X_val을 사용합니다.\n",
        "X_val_transformed = pipe.named_steps['preprocessing'].transform(X_val)\n",
        "\n",
        "# 실제로 fit 의미보다는 스코어를 다시 계산하는 작업입니다\n",
        "permuter.fit(X_val_transformed, y_val)\n",
        "\n",
        "feature_names = X_val.columns.tolist()\n",
        "pd.Series(permuter.feature_importances_, feature_names).sort_values()\n",
        "\n",
        "# 특성별 score 확인\n",
        "eli5.show_weights(\n",
        "    permuter, \n",
        "    top=None, \n",
        "    feature_names=feature_names # list 형식으로 넣음\n",
        ")"
      ],
      "execution_count": null,
      "outputs": []
    },
    {
      "cell_type": "code",
      "metadata": {
        "id": "yhEPh0qWg6dH"
      },
      "source": [
        "#permutaion 결과에 따라 음의 계수인 피쳐를 제거하겠습니다.\n",
        "X_train.drop(['ARR_TIME_BLK','ARR_TIME'],axis=1,inplace=True)\n",
        "X_val.drop(['ARR_TIME_BLK','ARR_TIME'],axis=1,inplace=True)\n",
        "X_test.drop(['ARR_TIME_BLK','ARR_TIME'],axis=1,inplace=True)"
      ],
      "execution_count": null,
      "outputs": []
    },
    {
      "cell_type": "markdown",
      "metadata": {
        "id": "MTrR6aLnPxDi"
      },
      "source": [
        "###하이퍼 파라미터 튜닝"
      ]
    },
    {
      "cell_type": "code",
      "metadata": {
        "id": "yA_oNjuT7_nd"
      },
      "source": [
        "#하이퍼 파라미터 튜닝을 하겠습니다\n",
        "from sklearn.model_selection import RandomizedSearchCV\n",
        "\n",
        "pipe = make_pipeline(\n",
        "    OrdinalEncoder(),  \n",
        "    RandomForestClassifier(random_state=2)\n",
        ")\n",
        "\n",
        "\n",
        "random_grid = {'randomforestclassifier__n_estimators': [200],\n",
        "               'randomforestclassifier__max_features': ['auto'],\n",
        "               'randomforestclassifier__max_depth': [5,10],\n",
        "               'randomforestclassifier__min_samples_split': [2, 5],\n",
        "               'randomforestclassifier__min_samples_leaf': [1, 2,4]\n",
        "               }\n",
        "\n",
        "\n",
        "rf_random = RandomizedSearchCV(estimator = pipe, param_distributions = random_grid, n_iter = 10, cv = 3, verbose=1, random_state=42, n_jobs = -1)\n",
        "\n",
        "rf_random.fit(X_train, y_train);\n"
      ],
      "execution_count": null,
      "outputs": []
    },
    {
      "cell_type": "code",
      "metadata": {
        "id": "i9begeTMkJTZ"
      },
      "source": [
        "rf_random.best_params_"
      ],
      "execution_count": null,
      "outputs": []
    },
    {
      "cell_type": "code",
      "metadata": {
        "id": "A33XDEEpZGLs"
      },
      "source": [
        "#rf_random.best_params_\n",
        "#{'randomforestclassifier__max_depth': 5,\n",
        " #'randomforestclassifier__max_features': 'auto',\n",
        " #'randomforestclassifier__min_samples_leaf': 4,\n",
        " #'randomforestclassifier__min_samples_split': 5,\n",
        " #'randomforestclassifier__n_estimators': 200}"
      ],
      "execution_count": null,
      "outputs": []
    },
    {
      "cell_type": "markdown",
      "metadata": {
        "id": "H3_veZcvmTJk"
      },
      "source": [
        "###모델학습"
      ]
    },
    {
      "cell_type": "code",
      "metadata": {
        "id": "hy1T8C64CAYQ"
      },
      "source": [
        "rf1 = RandomForestClassifier(class_weight= {False:weight[0],True:weight[1]}, max_depth = 10,max_features='auto',n_estimators = 200, min_samples_leaf = 4, min_samples_split= 5, random_state=2)\n",
        "\n",
        "\n",
        "rf1.fit(X_train, y_train)\n",
        "y_test_pred = rf1.predict(X_test)\n",
        "\n",
        "print(classification_report(y_test, y_test_pred))"
      ],
      "execution_count": null,
      "outputs": []
    },
    {
      "cell_type": "markdown",
      "metadata": {
        "id": "maFwRHTQmX-q"
      },
      "source": [
        "###모델 평가"
      ]
    },
    {
      "cell_type": "code",
      "metadata": {
        "id": "ws7c1HoZx-8J"
      },
      "source": [
        "from sklearn.metrics import roc_curve,roc_auc_score\n",
        "\n",
        "y_test_proba = rf.predict_proba(X_test)[:, 1]\n",
        "fpr, tpr, thresholds = roc_curve(y_test, y_test_proba)\n",
        "\n",
        "roc = pd.DataFrame({\n",
        "    'FPR(Fall-out)': fpr, \n",
        "    'TPRate(Recall)': tpr, \n",
        "    'Threshold': thresholds\n",
        "})\n",
        "\n",
        "fig, ax = plt.subplots()\n",
        "fig.set_facecolor('#f1f1f1')\n",
        "fig.set_figwidth(12)\n",
        "fig.set_figheight(12)\n",
        "\n",
        "plt.box(False)\n",
        "plt.xticks(rotation=45, ha='right')\n",
        "plt.axhline(y=0, color='grey', linewidth=5)\n",
        "plt.grid(True, color='grey')\n",
        "plt.scatter(fpr, tpr)\n",
        "plt.title('ROC curve')\n",
        "plt.xlabel('FPR(Fall-out)')\n",
        "plt.ylabel('TPR(Recall)');\n",
        "\n",
        "\n",
        "auc_score = roc_auc_score(y_test, y_test_proba)\n",
        "auc_score"
      ],
      "execution_count": null,
      "outputs": []
    },
    {
      "cell_type": "markdown",
      "metadata": {
        "id": "O2KQexHh5ZSG"
      },
      "source": [
        "## 모델해석"
      ]
    },
    {
      "cell_type": "code",
      "metadata": {
        "id": "zcwor4ImgEto"
      },
      "source": [
        "model = rf.fit(X_train, y_train)\n"
      ],
      "execution_count": null,
      "outputs": []
    },
    {
      "cell_type": "code",
      "metadata": {
        "id": "1IrzWINp1tok"
      },
      "source": [
        "import shap\n"
      ],
      "execution_count": null,
      "outputs": []
    },
    {
      "cell_type": "code",
      "metadata": {
        "id": "8lWSoMyL2MHV"
      },
      "source": [
        "explainer = shap.TreeExplainer(model)\n",
        "\n",
        "\n"
      ],
      "execution_count": null,
      "outputs": []
    },
    {
      "cell_type": "code",
      "metadata": {
        "id": "i74_hV4_Y16L"
      },
      "source": [
        "choosen_instance = X_test.loc[[421]]\n",
        "shap_values = explainer.shap_values(choosen_instance)\n",
        "shap.initjs()\n",
        "shap.force_plot(explainer.expected_value[1], shap_values[1], choosen_instance)"
      ],
      "execution_count": null,
      "outputs": []
    },
    {
      "cell_type": "code",
      "metadata": {
        "id": "cYsu44Nt1-MA"
      },
      "source": [
        "\n",
        "choosen_instance = X_test.loc[[310]]\n",
        "shap_values = explainer.shap_values(choosen_instance)\n",
        "shap.initjs()\n",
        "shap.force_plot(explainer.expected_value[1], shap_values[1], choosen_instance)"
      ],
      "execution_count": null,
      "outputs": []
    }
  ]
}